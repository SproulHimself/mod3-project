{
 "cells": [
  {
   "cell_type": "code",
   "execution_count": 6,
   "metadata": {},
   "outputs": [],
   "source": [
    "from onion_one import onion_articles \n",
    "from satirewire_data import satire_wire_articles\n",
    "from squib_data import squib_1_articles\n",
    "from squib_2_data import squib_2_articles \n",
    "import re\n",
    "import pdb\n",
    "import pandas as pd "
   ]
  },
  {
   "cell_type": "code",
   "execution_count": 9,
   "metadata": {
    "scrolled": true
   },
   "outputs": [
    {
     "name": "stdout",
     "output_type": "stream",
     "text": [
      "47\n",
      "324\n",
      "180\n",
      "699\n"
     ]
    }
   ],
   "source": [
    "print(len(onion_articles))\n",
    "print(len(satire_wire_articles))\n",
    "print(len(squib_1_articles))\n",
    "print(len(squib_2_articles))"
   ]
  },
  {
   "cell_type": "code",
   "execution_count": 2,
   "metadata": {},
   "outputs": [],
   "source": [
    "onion_arts = [l.pop(0) for l in onion_articles]"
   ]
  },
  {
   "cell_type": "code",
   "execution_count": 9,
   "metadata": {},
   "outputs": [
    {
     "data": {
      "text/plain": [
       "47"
      ]
     },
     "execution_count": 9,
     "metadata": {},
     "output_type": "execute_result"
    }
   ],
   "source": [
    "len(onion_articles)"
   ]
  },
  {
   "cell_type": "code",
   "execution_count": 10,
   "metadata": {},
   "outputs": [],
   "source": [
    "cleaned_onions = [x for x in onion_articles if x]\n"
   ]
  },
  {
   "cell_type": "code",
   "execution_count": 12,
   "metadata": {},
   "outputs": [],
   "source": [
    "onion_df = pd.DataFrame(cleaned_onions)"
   ]
  },
  {
   "cell_type": "code",
   "execution_count": 86,
   "metadata": {},
   "outputs": [
    {
     "data": {
      "text/html": [
       "<div>\n",
       "<style scoped>\n",
       "    .dataframe tbody tr th:only-of-type {\n",
       "        vertical-align: middle;\n",
       "    }\n",
       "\n",
       "    .dataframe tbody tr th {\n",
       "        vertical-align: top;\n",
       "    }\n",
       "\n",
       "    .dataframe thead th {\n",
       "        text-align: right;\n",
       "    }\n",
       "</style>\n",
       "<table border=\"1\" class=\"dataframe\">\n",
       "  <thead>\n",
       "    <tr style=\"text-align: right;\">\n",
       "      <th></th>\n",
       "      <th>headline</th>\n",
       "      <th>body</th>\n",
       "    </tr>\n",
       "  </thead>\n",
       "  <tbody>\n",
       "    <tr>\n",
       "      <th>0</th>\n",
       "      <td>Nation Not Sure How Many Ex-Trump Staffers It ...</td>\n",
       "      <td>Noting that the resignation of James Mattis as...</td>\n",
       "    </tr>\n",
       "    <tr>\n",
       "      <th>1</th>\n",
       "      <td>Exhausted Robert Mueller Turns Off Phone To Gi...</td>\n",
       "      <td>Desperate to unwind after months of nonstop wo...</td>\n",
       "    </tr>\n",
       "    <tr>\n",
       "      <th>2</th>\n",
       "      <td>The Trump Presidency In 2018</td>\n",
       "      <td>Nearly halfway through his presidential term, ...</td>\n",
       "    </tr>\n",
       "    <tr>\n",
       "      <th>3</th>\n",
       "      <td>Ryan Zinke Apologizes For Misuse Of Government...</td>\n",
       "      <td>Attempting to make amends for gross abuses of ...</td>\n",
       "    </tr>\n",
       "    <tr>\n",
       "      <th>4</th>\n",
       "      <td>Trump Administration Launches Human Rights Inv...</td>\n",
       "      <td>Decrying the Senate’s resolution blaming the c...</td>\n",
       "    </tr>\n",
       "  </tbody>\n",
       "</table>\n",
       "</div>"
      ],
      "text/plain": [
       "                                            headline  \\\n",
       "0  Nation Not Sure How Many Ex-Trump Staffers It ...   \n",
       "1  Exhausted Robert Mueller Turns Off Phone To Gi...   \n",
       "2                       The Trump Presidency In 2018   \n",
       "3  Ryan Zinke Apologizes For Misuse Of Government...   \n",
       "4  Trump Administration Launches Human Rights Inv...   \n",
       "\n",
       "                                                body  \n",
       "0  Noting that the resignation of James Mattis as...  \n",
       "1  Desperate to unwind after months of nonstop wo...  \n",
       "2  Nearly halfway through his presidential term, ...  \n",
       "3  Attempting to make amends for gross abuses of ...  \n",
       "4  Decrying the Senate’s resolution blaming the c...  "
      ]
     },
     "execution_count": 86,
     "metadata": {},
     "output_type": "execute_result"
    }
   ],
   "source": [
    "# test_case = onion_df.iloc[4][1]\n",
    "onion_df.columns = ['headline', 'body']\n",
    "onion_df.head() \n"
   ]
  },
  {
   "cell_type": "code",
   "execution_count": 79,
   "metadata": {},
   "outputs": [],
   "source": [
    "def remove_footer(dirty_string): \n",
    "    sep = \"SatireWire.com Related Tags:\"\n",
    "    if sep in dirty_string:\n",
    "        clean = dirty_string.split(sep, 1)[0]\n",
    "    else:\n",
    "        clean = dirty_string\n",
    "    return clean \n",
    "\n",
    "# onion_df[1] = onion_df[1].map(remove_dates)\n",
    "# onion_df.head()"
   ]
  },
  {
   "cell_type": "code",
   "execution_count": 58,
   "metadata": {},
   "outputs": [],
   "source": [
    "squib_df = pd.DataFrame(squib_articles)\n",
    "# squib_df.head() \n",
    "# squib_df.iloc[3][1]"
   ]
  },
  {
   "cell_type": "code",
   "execution_count": 99,
   "metadata": {},
   "outputs": [
    {
     "data": {
      "text/html": [
       "<div>\n",
       "<style scoped>\n",
       "    .dataframe tbody tr th:only-of-type {\n",
       "        vertical-align: middle;\n",
       "    }\n",
       "\n",
       "    .dataframe tbody tr th {\n",
       "        vertical-align: top;\n",
       "    }\n",
       "\n",
       "    .dataframe thead th {\n",
       "        text-align: right;\n",
       "    }\n",
       "</style>\n",
       "<table border=\"1\" class=\"dataframe\">\n",
       "  <thead>\n",
       "    <tr style=\"text-align: right;\">\n",
       "      <th></th>\n",
       "      <th>headline</th>\n",
       "      <th>body</th>\n",
       "    </tr>\n",
       "  </thead>\n",
       "  <tbody>\n",
       "    <tr>\n",
       "      <th>0</th>\n",
       "      <td>ALTERNATIVE PUERTO RICO THRIVING AFTER HURRICA...</td>\n",
       "      <td>White House officials today said President Tr...</td>\n",
       "    </tr>\n",
       "    <tr>\n",
       "      <th>1</th>\n",
       "      <td>MORNING SHOW ‘FUCK NO, TALLAHASSEE’ TOPS TV RA...</td>\n",
       "      <td>Just one month after changing its name from ‘...</td>\n",
       "    </tr>\n",
       "    <tr>\n",
       "      <th>2</th>\n",
       "      <td>TRUMP TO KEEP FAMILIES TOGETHER, STACKED INTO ...</td>\n",
       "      <td>Official White House Transcript Topic: Immigra...</td>\n",
       "    </tr>\n",
       "    <tr>\n",
       "      <th>3</th>\n",
       "      <td>TRUMP CANCELS 2018 MIDTERMS TO THWART RUSSIAN ...</td>\n",
       "      <td>In an effort to keep Russia from interfering ...</td>\n",
       "    </tr>\n",
       "    <tr>\n",
       "      <th>4</th>\n",
       "      <td>TRUMP WILL DEPLOY RUSSIAN TROOPS TO PURGE U.S....</td>\n",
       "      <td>President Donald Trump today accepted an offe...</td>\n",
       "    </tr>\n",
       "  </tbody>\n",
       "</table>\n",
       "</div>"
      ],
      "text/plain": [
       "                                            headline  \\\n",
       "0  ALTERNATIVE PUERTO RICO THRIVING AFTER HURRICA...   \n",
       "1  MORNING SHOW ‘FUCK NO, TALLAHASSEE’ TOPS TV RA...   \n",
       "2  TRUMP TO KEEP FAMILIES TOGETHER, STACKED INTO ...   \n",
       "3  TRUMP CANCELS 2018 MIDTERMS TO THWART RUSSIAN ...   \n",
       "4  TRUMP WILL DEPLOY RUSSIAN TROOPS TO PURGE U.S....   \n",
       "\n",
       "                                                body  \n",
       "0   White House officials today said President Tr...  \n",
       "1   Just one month after changing its name from ‘...  \n",
       "2  Official White House Transcript Topic: Immigra...  \n",
       "3   In an effort to keep Russia from interfering ...  \n",
       "4   President Donald Trump today accepted an offe...  "
      ]
     },
     "execution_count": 99,
     "metadata": {},
     "output_type": "execute_result"
    }
   ],
   "source": [
    "# satire_pd = pd.DataFrame(satire_wire_articles)\n",
    "# satire_pd.drop([0], axis=1, inplace=True)\n",
    "# # satire_pd.head() \n",
    "# satire_pd.iloc[4][2]\n",
    "# satire_pd[2] = satire_pd[2].map(remove_footer)\n",
    "# # satire_pd.head()\n",
    "# satire_pd.iloc[10][2]\n",
    "satire_pd.columns = ['headline', 'body']\n",
    "satire_pd.head() \n"
   ]
  },
  {
   "cell_type": "code",
   "execution_count": 113,
   "metadata": {},
   "outputs": [
    {
     "data": {
      "text/plain": [
       "(1230, 2)"
      ]
     },
     "execution_count": 113,
     "metadata": {},
     "output_type": "execute_result"
    }
   ],
   "source": [
    "# squib_df.head()\n",
    "# onion_df.head()\n",
    "# satire_pd\n",
    "# all_satire_df = onion_df.append([squib_df, satire_pd])\n",
    "# all_satire_df = all_satire_df.drop_duplicates()\n",
    "all_satire_df['target'] = 1\n",
    "all_satire_df.head() \n",
    "all_satire_b = all_satire_df.drop(['headline'], axis=1)\n",
    "all_satire_b.shape"
   ]
  },
  {
   "cell_type": "code",
   "execution_count": 109,
   "metadata": {},
   "outputs": [
    {
     "data": {
      "text/html": [
       "<div>\n",
       "<style scoped>\n",
       "    .dataframe tbody tr th:only-of-type {\n",
       "        vertical-align: middle;\n",
       "    }\n",
       "\n",
       "    .dataframe tbody tr th {\n",
       "        vertical-align: top;\n",
       "    }\n",
       "\n",
       "    .dataframe thead th {\n",
       "        text-align: right;\n",
       "    }\n",
       "</style>\n",
       "<table border=\"1\" class=\"dataframe\">\n",
       "  <thead>\n",
       "    <tr style=\"text-align: right;\">\n",
       "      <th></th>\n",
       "      <th>headline</th>\n",
       "      <th>body</th>\n",
       "    </tr>\n",
       "  </thead>\n",
       "  <tbody>\n",
       "    <tr>\n",
       "      <th>0</th>\n",
       "      <td>Obama Oprah O’Rourke Ocasio – Why Socialist Am...</td>\n",
       "      <td>O socialism America Oprah Obama O'Rourke Ocasi...</td>\n",
       "    </tr>\n",
       "    <tr>\n",
       "      <th>1</th>\n",
       "      <td>Golden Globes Red Carpet Extravaganza Wows Crowds</td>\n",
       "      <td>“Did you see those golden globes?” an excited ...</td>\n",
       "    </tr>\n",
       "    <tr>\n",
       "      <th>2</th>\n",
       "      <td>Modigliani Nude Paintings Now Considered as Se...</td>\n",
       "      <td>Amedeo Modigliani (1884–1920) The ever present...</td>\n",
       "    </tr>\n",
       "    <tr>\n",
       "      <th>3</th>\n",
       "      <td>Doesn’t Matter What Year We’re In Still Have t...</td>\n",
       "      <td>If you think another year after the previous y...</td>\n",
       "    </tr>\n",
       "    <tr>\n",
       "      <th>4</th>\n",
       "      <td>Why No One Will Ever Vote For the Conservative...</td>\n",
       "      <td>Theresa May. It’s as simple as that. She and h...</td>\n",
       "    </tr>\n",
       "  </tbody>\n",
       "</table>\n",
       "</div>"
      ],
      "text/plain": [
       "                                            headline  \\\n",
       "0  Obama Oprah O’Rourke Ocasio – Why Socialist Am...   \n",
       "1  Golden Globes Red Carpet Extravaganza Wows Crowds   \n",
       "2  Modigliani Nude Paintings Now Considered as Se...   \n",
       "3  Doesn’t Matter What Year We’re In Still Have t...   \n",
       "4  Why No One Will Ever Vote For the Conservative...   \n",
       "\n",
       "                                                body  \n",
       "0  O socialism America Oprah Obama O'Rourke Ocasi...  \n",
       "1  “Did you see those golden globes?” an excited ...  \n",
       "2  Amedeo Modigliani (1884–1920) The ever present...  \n",
       "3  If you think another year after the previous y...  \n",
       "4  Theresa May. It’s as simple as that. She and h...  "
      ]
     },
     "execution_count": 109,
     "metadata": {},
     "output_type": "execute_result"
    }
   ],
   "source": [
    "squib_df.head() "
   ]
  },
  {
   "cell_type": "code",
   "execution_count": 44,
   "metadata": {},
   "outputs": [],
   "source": [
    "squib_articles = squib_1_articles + squib_2_articles"
   ]
  },
  {
   "cell_type": "code",
   "execution_count": 45,
   "metadata": {},
   "outputs": [
    {
     "data": {
      "text/plain": [
       "879"
      ]
     },
     "execution_count": 45,
     "metadata": {},
     "output_type": "execute_result"
    }
   ],
   "source": [
    "len(squib_articles)"
   ]
  },
  {
   "cell_type": "code",
   "execution_count": 14,
   "metadata": {},
   "outputs": [
    {
     "data": {
      "text/plain": [
       "1000"
      ]
     },
     "execution_count": 14,
     "metadata": {},
     "output_type": "execute_result"
    }
   ],
   "source": [
    "629+47+324"
   ]
  },
  {
   "cell_type": "code",
   "execution_count": 15,
   "metadata": {},
   "outputs": [],
   "source": [
    "import pandas as pd\n",
    "import numpy as np\n",
    "from mpl_toolkits.mplot3d import Axes3D\n",
    "import matplotlib.pyplot as plt\n",
    "%matplotlib inline\n",
    "from sklearn.manifold import TSNE\n",
    "from nltk.tokenize import word_tokenize\n",
    "np.random.seed(0)"
   ]
  },
  {
   "cell_type": "code",
   "execution_count": 16,
   "metadata": {},
   "outputs": [],
   "source": [
    "all_satire_articles = squib_articles + onion_articles + satire_wire_articles"
   ]
  },
  {
   "cell_type": "code",
   "execution_count": 18,
   "metadata": {},
   "outputs": [
    {
     "data": {
      "text/plain": [
       "['Obama Oprah O’Rourke Ocasio – Why Socialist Americans Love ‘O’ So Much',\n",
       " \"O socialism America Oprah Obama O'Rourke Ocasio Michelle Obama, Barack Obama, Oprah Winfrey, Beto O‘Rourke, Ocasio-Cortez, these are all darlings of the socialist democrat party in America who all have something in common, the letter ‘o’. What is it about the letter ‘o’ that is so endearing to the socialists and their dream of turning America into a pseudo-communist socialist state resembling Venezuela? We asked Democrat party official Oona Menendez, the same question. “Why is the letter ‘o’ so important for Democrat politicians, especially regarding elections?” She replied quite succinctly: “Candidates have a greater success with the letter ‘o’ in their name because it breeds familiarity. Like with an ‘o’ people immediately know they’re safe, they are guaranteed socialism or communism. We adopted the significance of ‘o’ after eight years of Barack Obama rule. He was the first big ‘o’ which denoted ‘change’ and he brought in much socialist and Marxist changes to America, which is sadly being eroded by the current president. ‘O’ also stands for the circle, inclusivity, globalism, and collectivism. The main reason though, as I mentioned before, is familiarity, because when a voter is about to tick the box on election day, all they have to look for is where the Os are. If you see an ‘o’ on the first or last name, that’s who you vote for — Democrat. It’s really as simple as that.” We asked her where ‘Hillary’ fits into this? “She doesn’t. Never has, never will.” \"]"
      ]
     },
     "execution_count": 18,
     "metadata": {},
     "output_type": "execute_result"
    }
   ],
   "source": [
    "onion_articles[0][1:]"
   ]
  },
  {
   "cell_type": "code",
   "execution_count": null,
   "metadata": {},
   "outputs": [],
   "source": [
    "( \\\\((MoM|QoQ)\\\\))\n",
    "\n",
    "[  ]{2,}\n",
    "patternDel = \"([  ]{2,})\"\n",
    "filt = final_reuters_df['body'].str.contains(patternDel)\n",
    "reuters_clean_df = final_reuters_df[~filt]\n"
   ]
  }
 ],
 "metadata": {
  "kernelspec": {
   "display_name": "Python 3",
   "language": "python",
   "name": "python3"
  },
  "language_info": {
   "codemirror_mode": {
    "name": "ipython",
    "version": 3
   },
   "file_extension": ".py",
   "mimetype": "text/x-python",
   "name": "python",
   "nbconvert_exporter": "python",
   "pygments_lexer": "ipython3",
   "version": "3.7.0"
  }
 },
 "nbformat": 4,
 "nbformat_minor": 2
}
