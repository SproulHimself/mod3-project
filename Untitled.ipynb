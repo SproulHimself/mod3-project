{
 "cells": [
  {
   "cell_type": "code",
   "execution_count": 2,
   "metadata": {},
   "outputs": [],
   "source": [
    "def QuestionsMarks(str): \n",
    "    val_list = []\n",
    "#     pattern = '[0-9]'\n",
    "    for ind, val in enumerate(str):\n",
    "        while int(val):\n",
    "            \n",
    "        \n",
    "        \n",
    "\n",
    "    # code goes here \n",
    "#     return str\n",
    "    \n",
    "# keep this function call here  \n",
    "# print QuestionsMarks(raw_input())"
   ]
  },
  {
   "cell_type": "code",
   "execution_count": null,
   "metadata": {},
   "outputs": [],
   "source": []
  }
 ],
 "metadata": {
  "kernelspec": {
   "display_name": "Python 3",
   "language": "python",
   "name": "python3"
  },
  "language_info": {
   "codemirror_mode": {
    "name": "ipython",
    "version": 3
   },
   "file_extension": ".py",
   "mimetype": "text/x-python",
   "name": "python",
   "nbconvert_exporter": "python",
   "pygments_lexer": "ipython3",
   "version": "3.6.6"
  }
 },
 "nbformat": 4,
 "nbformat_minor": 2
}
