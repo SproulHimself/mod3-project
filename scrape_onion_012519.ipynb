{
 "cells": [
  {
   "cell_type": "code",
   "execution_count": 4,
   "metadata": {},
   "outputs": [],
   "source": [
    "import re\n",
    "import requests\n",
    "from bs4 import BeautifulSoup\n",
    "import os\n",
    "import pdb \n",
    "import time\n",
    "\n",
    "from selenium import webdriver\n",
    "from selenium.webdriver.common.keys import Keys\n",
    "\n",
    "driver = webdriver.Chrome('/usr/local/bin/chromedriver')"
   ]
  },
  {
   "cell_type": "code",
   "execution_count": 5,
   "metadata": {},
   "outputs": [],
   "source": [
    "on_topics = ['politics', 'sports', 'local', 'entertainment', 'opinion']\n",
    "\n",
    "url = \"https://www.theonion.com/c/news-in-brief\"\n",
    "driver.get(url)\n",
    "\n",
    "headlines = []\n",
    "body = []\n",
    "category = []\n",
    "topic = []\n",
    "mega_articles = []\n",
    "page_links = []\n",
    "\n"
   ]
  },
  {
   "cell_type": "code",
   "execution_count": 27,
   "metadata": {},
   "outputs": [],
   "source": [
    "def get_two_pages_of_links():\n",
    "    #assumes you are on the page\n",
    "    link_list = []\n",
    "    headers = driver.find_elements_by_class_name(\"headline\")\n",
    "    for h in headers: \n",
    "        link = h.find_element_by_css_selector('a')\n",
    "#     print(link.get_attribute('href'))\n",
    "        link_list.append(link.get_attribute('href'))\n",
    "    driver.find_element_by_link_text('More stories').click()\n",
    "    headers = driver.find_elements_by_class_name(\"headline\")\n",
    "    for h in headers: \n",
    "        link = h.find_element_by_css_selector('a')\n",
    "#     print(link.get_attribute('href'))\n",
    "        link_list.append(link.get_attribute('href'))\n",
    "    return link_list "
   ]
  },
  {
   "cell_type": "code",
   "execution_count": null,
   "metadata": {},
   "outputs": [],
   "source": []
  },
  {
   "cell_type": "code",
   "execution_count": 18,
   "metadata": {},
   "outputs": [],
   "source": [
    "links = driver.find_elements_by_class_name(\"sc-1out364-0\")\n",
    "headers = driver.find_elements_by_class_name(\"headline\")"
   ]
  },
  {
   "cell_type": "code",
   "execution_count": 28,
   "metadata": {},
   "outputs": [
    {
     "name": "stdout",
     "output_type": "stream",
     "text": [
      "https://www.theonion.com/marine-biologists-train-highly-intelligent-octopus-to-p-1832053903\n",
      "https://entertainment.theonion.com/the-conners-scores-big-ratings-by-killing-off-rest-of-1832030980#_ga=2.205524947.1986633449.1548434714-953081957.1548434714\n",
      "https://entertainment.theonion.com/e-l-james-admits-new-erotic-novel-originally-tiny-too-1832029592\n",
      "https://politics.theonion.com/emaciated-peter-alexander-burns-podium-for-warmth-after-1832026399\n",
      "https://local.theonion.com/teen-weirded-out-after-running-over-english-teacher-out-1832025329\n",
      "https://local.theonion.com/masked-vigilante-takes-terrorizing-black-community-into-1832019922\n",
      "https://entertainment.theonion.com/study-no-two-people-have-listened-to-same-band-since-2-1832012299\n",
      "https://local.theonion.com/doctors-assure-recovering-patient-he-has-many-more-year-1831993642\n",
      "https://www.theonion.com/study-30-of-people-who-quit-smoking-relapse-after-sha-1831992601\n",
      "https://local.theonion.com/self-conscious-puppet-has-no-idea-what-to-do-with-hands-1831983895\n",
      "https://local.theonion.com/nature-preserve-sets-up-unrealistic-expectations-with-v-1831983590\n",
      "https://politics.theonion.com/giuliani-let-s-just-start-everything-over-1831966306\n",
      "https://local.theonion.com/weird-kid-opts-to-sit-perfectly-still-let-universe-dec-1831960660\n",
      "https://www.theonion.com/viral-video-sparks-national-debate-around-drumming-in-p-1831960145\n",
      "https://politics.theonion.com/kamala-harris-assembles-campaign-staff-of-unpaid-califo-1831958905\n",
      "https://politics.theonion.com/chuck-grassley-reveals-he-voted-against-mlk-day-due-to-1831958615\n",
      "https://local.theonion.com/man-regrets-wasting-money-on-college-after-failing-to-s-1831951654\n",
      "https://www.theonion.com/dan-savage-disgusted-by-letter-from-perverted-reader-co-1831914216\n",
      "https://local.theonion.com/man-beginning-to-worry-that-best-meals-already-behind-h-1831914306\n",
      "https://www.theonion.com/queen-elizabeth-watches-as-oxen-pull-apart-farmer-who-f-1831914399\n"
     ]
    }
   ],
   "source": [
    "for h in headers: \n",
    "    link = h.find_element_by_css_selector('a')\n",
    "#     print(link.get_attribute('href'))\n",
    "    page_links.append(link.get_attribute('href'))\n",
    "    \n",
    "# test = headers[0].find_element_by_css_selector('a')"
   ]
  },
  {
   "cell_type": "code",
   "execution_count": 31,
   "metadata": {},
   "outputs": [
    {
     "data": {
      "text/plain": [
       "<selenium.webdriver.remote.webelement.WebElement (session=\"89fa50a846e7056e5fa0ee1c4822d373\", element=\"0.19086444149478-101\")>"
      ]
     },
     "execution_count": 31,
     "metadata": {},
     "output_type": "execute_result"
    }
   ],
   "source": [
    "# page_links[0]\n",
    "#find more stories button \n",
    "more_btn = driver.find_element_by_link_text('More stories')\n",
    "more_btn.click()"
   ]
  },
  {
   "cell_type": "code",
   "execution_count": 34,
   "metadata": {},
   "outputs": [
    {
     "data": {
      "text/plain": [
       "20"
      ]
     },
     "execution_count": 34,
     "metadata": {},
     "output_type": "execute_result"
    }
   ],
   "source": [
    "headers = driver.find_elements_by_class_name(\"headline\")\n",
    "len(headers)\n"
   ]
  },
  {
   "cell_type": "code",
   "execution_count": 35,
   "metadata": {},
   "outputs": [
    {
     "name": "stdout",
     "output_type": "stream",
     "text": [
      "https://local.theonion.com/doctor-weirded-out-by-patient-she-just-met-providing-ev-1831914381\n",
      "https://www.theonion.com/orlando-locals-fear-town-starting-to-become-overrun-by-1831914143\n",
      "https://www.theonion.com/ice-launches-campaign-to-reunite-immigrant-children-wit-1831875845\n",
      "https://www.theonion.com/iss-astronaut-sick-of-sharing-confined-space-with-crass-1831874433\n",
      "https://entertainment.theonion.com/fans-shocked-after-marie-kondo-reveals-she-has-been-dat-1831872362\n",
      "https://local.theonion.com/woman-didn-t-know-progress-on-toxic-masculinity-would-t-1831869468\n",
      "https://politics.theonion.com/john-bolton-insists-iran-likely-harboring-dangerous-ter-1831852419\n",
      "https://politics.theonion.com/don-t-make-me-regret-this-mueller-tells-rick-gates-b-1831849285\n",
      "https://politics.theonion.com/poll-finds-100-of-americans-blame-shutdown-entirely-on-1831845310\n",
      "https://politics.theonion.com/presumptuous-congressional-freshman-thinks-she-can-just-1831842239\n",
      "https://www.theonion.com/ames-executives-scrambling-after-new-shovel-design-leak-1831841475\n",
      "https://local.theonion.com/this-the-fuck-harness-sex-shop-worker-has-at-home-1831840790\n",
      "https://local.theonion.com/report-there-no-way-of-knowing-whether-the-vague-award-1831816021\n",
      "https://www.theonion.com/fox-news-debuts-premium-channel-for-24-hour-coverage-of-1831814505\n",
      "https://local.theonion.com/woman-rushes-to-hide-fragile-objects-cover-up-sharp-co-1831812626\n",
      "https://local.theonion.com/pretentious-woman-refers-to-slam-piece-as-partner-1831803116\n",
      "https://local.theonion.com/furloughed-government-employee-using-time-off-to-visit-1831802595\n",
      "https://www.theonion.com/fed-up-eu-rejects-united-kingdom-gives-british-30-days-1831784729\n",
      "https://www.theonion.com/viagra-announces-real-medicine-that-gave-customers-erec-1831776553\n",
      "https://sports.theonion.com/nba-ref-petrified-after-seeing-depiction-of-own-death-w-1831776345\n"
     ]
    }
   ],
   "source": [
    "for h in headers: \n",
    "    link = h.find_element_by_css_selector('a')\n",
    "    print(link.get_attribute('href'))\n",
    "    page_links.append(link.get_attribute('href'))"
   ]
  },
  {
   "cell_type": "code",
   "execution_count": 37,
   "metadata": {},
   "outputs": [
    {
     "data": {
      "text/plain": [
       "40"
      ]
     },
     "execution_count": 37,
     "metadata": {},
     "output_type": "execute_result"
    }
   ],
   "source": [
    "# for l in links: \n",
    "#     print(\"----\")\n",
    "#     print(l.text)\n",
    "len(page_links)"
   ]
  },
  {
   "cell_type": "code",
   "execution_count": 13,
   "metadata": {},
   "outputs": [],
   "source": [
    "def scroll_down():\n",
    "\tfor i in range(1,5):\n",
    "\t\ttry:\n",
    "\t\t\tmodal_button = driver.find_element_by_class_name(\"button2\")\n",
    "\t\t\twebdriver.ActionChains(driver).move_to_element(modal_button).click(modal_button).perform()\n",
    "\t\texcept: \n",
    "\t\t\tpass \n",
    "\t\tdriver.execute_script(\"window.scrollTo(0, document.body.scrollHeight);\")\n",
    "\t\ttime.sleep(1)\n",
    "\n",
    "\n",
    "def get_onion_arts(): \n",
    "\tarticles = []\n",
    "\tfor topic in on_topics: \n",
    "\t\turl = \"http://\" + topic + \".theonion.com\"\n",
    "\t\tif topic == 'opinion': \n",
    "\t\t\turl = \"https://www.theonion.com/tag/opinion\"\n",
    "\t\t\n",
    "\t\tdriver.get(url)\n",
    "\n",
    "\t\ttry: \n",
    "\t\t\tfirst_art_link = driver.find_element_by_class_name(\"content-meta__headline__wrapper\")\n",
    "\t\texcept: \n",
    "\t\t\tfirst_art_link = driver.find_element_by_class_name(\"headline\")\n",
    "\n",
    "\t\twebdriver.ActionChains(driver).move_to_element(first_art_link).click(first_art_link).perform()\n",
    "\n",
    "\t\tscroll_down()\n",
    "\t\t# time.sleep(1)\n",
    "\t\tget_more()\n",
    "\t\t# driver.execute_script(\"window.scrollTo(0, document.body.scrollHeight);\")\n",
    "\t\t# time.sleep(1)\n",
    "\n",
    "\t\tall_arts = driver.find_elements_by_class_name('js_reading-list-item')\n",
    "\n",
    "\t\tfor art in all_arts: \n",
    "\t\t\ttry:\n",
    "\t\t\t\tmodal_button = driver.find_element_by_class_name(\"button2\")\n",
    "\t\t\t\twebdriver.ActionChains(driver).move_to_element(modal_button).click(modal_button).perform()\n",
    "\t\t\texcept: \n",
    "\t\t\t\tpass\n",
    "\n",
    "\t\t\tarticle = []\n",
    "\t\t\ttry:\n",
    "\t\t\t\theadline = art.find_element_by_xpath(\".//div[1]/header/header/h1/a\").text\n",
    "\t\t\t\ttry: \n",
    "\t\t\t\t\tbody = art.find_element_by_tag_name('p').text\n",
    "\t\t\t\t\tarticle.append(topic)\n",
    "\t\t\t\t\tarticle.append(headline)\n",
    "\t\t\t\t\tarticle.append(body)\n",
    "\t\t\t\texcept: \n",
    "\t\t\t\t\tarticle.append(\"no body\")\n",
    "\t\t\t\t\tprint(\"no body!\")\n",
    "\t\t\texcept:\n",
    "\t\t\t\tprint(\"no headline\")\n",
    "\n",
    "\t\t\tif article: \n",
    "\t\t\t\tarticles.append(article)\n",
    "\treturn articles \n",
    "\n",
    "def get_more(): \n",
    "\tfor i in range(1,5):\n",
    "\t\ttry:\n",
    "\t\t\tnext_b = driver.find_element_by_xpath(\"//*[contains(text(), 'Load next Politics story')]\")\n",
    "\t\t\twebdriver.ActionChains(driver).move_to_element(next_b).click(next_b).perform()\n",
    "\t\t\ttime.sleep(.5)\n",
    "\t\texcept: \n",
    "\t\t\tpass "
   ]
  },
  {
   "cell_type": "code",
   "execution_count": null,
   "metadata": {},
   "outputs": [],
   "source": []
  }
 ],
 "metadata": {
  "kernelspec": {
   "display_name": "Python 3",
   "language": "python",
   "name": "python3"
  },
  "language_info": {
   "codemirror_mode": {
    "name": "ipython",
    "version": 3
   },
   "file_extension": ".py",
   "mimetype": "text/x-python",
   "name": "python",
   "nbconvert_exporter": "python",
   "pygments_lexer": "ipython3",
   "version": "3.7.0"
  }
 },
 "nbformat": 4,
 "nbformat_minor": 2
}
